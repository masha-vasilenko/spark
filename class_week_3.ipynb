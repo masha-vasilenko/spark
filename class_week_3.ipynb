{
 "cells": [
  {
   "cell_type": "code",
   "execution_count": 5,
   "metadata": {
    "hideCode": false,
    "hidePrompt": true
   },
   "outputs": [
    {
     "data": {
      "text/html": [
       "\n",
       "        <div>\n",
       "            <p><b>SparkContext</b></p>\n",
       "\n",
       "            <p><a href=\"http://192.168.1.69:4040\">Spark UI</a></p>\n",
       "\n",
       "            <dl>\n",
       "              <dt>Version</dt>\n",
       "                <dd><code>v2.2.0</code></dd>\n",
       "              <dt>Master</dt>\n",
       "                <dd><code>local[*]</code></dd>\n",
       "              <dt>AppName</dt>\n",
       "                <dd><code>PySparkShell</code></dd>\n",
       "            </dl>\n",
       "        </div>\n",
       "        "
      ],
      "text/plain": [
       "<SparkContext master=local[*] appName=PySparkShell>"
      ]
     },
     "execution_count": 5,
     "metadata": {},
     "output_type": "execute_result"
    }
   ],
   "source": [
    "sc"
   ]
  },
  {
   "cell_type": "markdown",
   "metadata": {
    "hideCode": true,
    "hidePrompt": true
   },
   "source": [
    "**flatmap** vs. **map** only affects how the data is collected."
   ]
  },
  {
   "cell_type": "markdown",
   "metadata": {
    "hideCode": true,
    "hidePrompt": true
   },
   "source": [
    "## Fold, Aggregate, countByValue, takeSample, and foreach(n)\n"
   ]
  },
  {
   "cell_type": "markdown",
   "metadata": {
    "hideCode": true,
    "hidePrompt": true
   },
   "source": [
    "### Fold - similiar to a reduce function\n",
    "**fold** is similar to reduce with a default value. \n",
    "- takes function with same design as needed for reduce()\n",
    "- Takes a default value to be used for the intial call on each partition\n",
    "- Returns a new value of hte same type\n",
    "\n",
    "---\n",
    "\n",
    "If there's 3 partitions\n",
    "\n",
    "`.fold(0,lambda x,y : x+y)`\n",
    "\n",
    "Step 1 : **0** 1 3 5 | **0** 7 9 | **0**\n",
    "\n",
    "Step 2 : **0** 9 | **0** 16\n",
    "\n",
    "Step 3 :25\n",
    "\n",
    "---\n",
    "\n",
    "`.fold(1,lambda x,y : x+y)`\n",
    "\n",
    "If there's 3 partitions\n",
    "\n",
    "Step 1 : **1** 1 3 5 | **1** 7 9 | **1**\n",
    "\n",
    "Step 2 : **0** 9 | **0** 16\n",
    "\n",
    "Step 3 : 25\n",
    "\n",
    "Fold is often used for error handling. Handle error on your own. The 0 value will automatically handle the error. \n",
    "\n"
   ]
  },
  {
   "cell_type": "markdown",
   "metadata": {
    "hideCode": true,
    "hidePrompt": true
   },
   "source": [
    "#### Lets look at odd numbers, want to calculate (sum / count)"
   ]
  },
  {
   "cell_type": "code",
   "execution_count": 2,
   "metadata": {
    "hideCode": true,
    "hidePrompt": true
   },
   "outputs": [],
   "source": [
    "odd_nums = sc.parallelize([1,3,5,7,9],2)"
   ]
  },
  {
   "cell_type": "code",
   "execution_count": 3,
   "metadata": {
    "hideCode": true,
    "hidePrompt": true
   },
   "outputs": [
    {
     "data": {
      "text/plain": [
       "[1, 4, 5, 7, 9]"
      ]
     },
     "execution_count": 3,
     "metadata": {},
     "output_type": "execute_result"
    }
   ],
   "source": [
    "odd_nums.map(lambda x : x+1 if x == 3 else x).collect()"
   ]
  },
  {
   "cell_type": "code",
   "execution_count": 4,
   "metadata": {
    "hideCode": true,
    "hidePrompt": true
   },
   "outputs": [
    {
     "data": {
      "text/plain": [
       "[0, 4, 7, 0, 0]"
      ]
     },
     "execution_count": 4,
     "metadata": {},
     "output_type": "execute_result"
    }
   ],
   "source": [
    "odd_nums.map(lambda x : x+1 if x == 3 else x+2 if x==5 else 0).collect()"
   ]
  },
  {
   "cell_type": "code",
   "execution_count": 5,
   "metadata": {
    "hideCode": true,
    "hidePrompt": true
   },
   "outputs": [
    {
     "data": {
      "text/plain": [
       "[1, 3, 5, 7, 9]"
      ]
     },
     "execution_count": 5,
     "metadata": {},
     "output_type": "execute_result"
    }
   ],
   "source": [
    "odd_nums.collect()"
   ]
  },
  {
   "cell_type": "markdown",
   "metadata": {
    "hideCode": true,
    "hidePrompt": true
   },
   "source": [
    "We will make a 2-value tuple `(0,0)` which will be considered as `x`.\n",
    "\n",
    "- `x[0]` will be our sum\n",
    "- `x[1]` will be our count\n",
    "\n",
    "```python\n",
    ".aggregate((0,0),  # default value\n",
    "    lambda x,y : (x[0],x[1]+y),  # within a partition\n",
    "    lambda x,y: (x[0]+y[0],x[1]+y[1])) # condensing partitions\n",
    "```\n",
    "\n",
    "#### Lets look at the parts\n",
    "\n",
    "##### Default Value\n",
    "Will default to (0,0) as a starting point. Then will continually add. \n",
    "\n",
    "##### Within partition \n",
    "\n",
    "`lambda x,y : (x[0]+1,x[1]+y)`\n",
    "\n",
    "Let's work through this. \n",
    "\n",
    "1. We start with `(0,0) = x`\n",
    "2. We encounter our first value 1 so `y=1`\n",
    "3. We want (0,0) to be => (1,1)\n",
    "\n",
    "\n",
    "##### Gathering Partitions results\n",
    "\n",
    "`lambda x,y: (x[0]+y[0],x[1]+y[1]))`\n",
    "\n",
    "Let's work through this step by step. Lets say the partition break is `[1,3] [5,7,9]`\n",
    "\n",
    "Then after applying the function within the partition we should have `(4,2) (21,3)`\n",
    "\n",
    "So to reiterate:\n",
    "\n",
    "1. `(4,2) = x`\n",
    "2. `(21,3) = y`\n",
    "3. so the lambda function should add these pair-wise together\n",
    "4. `x[0]+y[0] = 25`\n",
    "5. `x[1]+y[1] = 5`\n",
    "6. Returns `(25,5)`\n",
    "\n",
    "\n",
    "\n",
    "\n",
    "\n"
   ]
  },
  {
   "cell_type": "markdown",
   "metadata": {
    "hideCode": true,
    "hidePrompt": true
   },
   "source": [
    "#### Example 4-1 for the numbers between 1 and 9 calculate sum of odd numbers"
   ]
  },
  {
   "cell_type": "code",
   "execution_count": 6,
   "metadata": {
    "hideCode": true,
    "hidePrompt": true
   },
   "outputs": [
    {
     "data": {
      "text/plain": [
       "25"
      ]
     },
     "execution_count": 6,
     "metadata": {},
     "output_type": "execute_result"
    }
   ],
   "source": [
    "odd_nums.reduce(lambda x,y : x + y)"
   ]
  },
  {
   "cell_type": "markdown",
   "metadata": {
    "hideCode": true,
    "hidePrompt": true
   },
   "source": [
    "#### Example 4-2 for the numbers between 1 and 9 calculate the sum of the odd numbers using fold"
   ]
  },
  {
   "cell_type": "code",
   "execution_count": 7,
   "metadata": {
    "hideCode": true,
    "hidePrompt": true
   },
   "outputs": [
    {
     "data": {
      "text/plain": [
       "25"
      ]
     },
     "execution_count": 7,
     "metadata": {},
     "output_type": "execute_result"
    }
   ],
   "source": [
    "odd_nums.fold(0,lambda x,y : x + y)"
   ]
  },
  {
   "cell_type": "markdown",
   "metadata": {
    "hideCode": true,
    "hidePrompt": true
   },
   "source": [
    "#### Example 4-3 using aggregate () return (sum # of elements ) of odd numbers"
   ]
  },
  {
   "cell_type": "code",
   "execution_count": 8,
   "metadata": {
    "hideCode": true,
    "hidePrompt": true
   },
   "outputs": [
    {
     "data": {
      "text/plain": [
       "(5, 25)"
      ]
     },
     "execution_count": 8,
     "metadata": {},
     "output_type": "execute_result"
    }
   ],
   "source": [
    "odd_nums.aggregate((0,0),lambda x,y:(x[0]+1,+x[1]+y),lambda x,y:(x[0]+y[0],x[1]+y[1]))"
   ]
  },
  {
   "cell_type": "code",
   "execution_count": 9,
   "metadata": {
    "hideCode": true,
    "hidePrompt": true
   },
   "outputs": [
    {
     "data": {
      "text/plain": [
       "[[1, 3], [5, 7, 9]]"
      ]
     },
     "execution_count": 9,
     "metadata": {},
     "output_type": "execute_result"
    }
   ],
   "source": [
    "odd_nums.glom().collect()"
   ]
  },
  {
   "cell_type": "markdown",
   "metadata": {
    "hideCode": true,
    "hidePrompt": true
   },
   "source": [
    "### Whats the difference between take() and first()?\n",
    "\n",
    "One returns values, the other returns a string"
   ]
  },
  {
   "cell_type": "code",
   "execution_count": 41,
   "metadata": {
    "hideCode": false,
    "hidePrompt": true
   },
   "outputs": [],
   "source": [
    "odd_nums = sc.parallelize([1,3,5,7,9],2)"
   ]
  },
  {
   "cell_type": "code",
   "execution_count": 42,
   "metadata": {
    "hideCode": false,
    "hidePrompt": true
   },
   "outputs": [
    {
     "data": {
      "text/plain": [
       "[1]"
      ]
     },
     "execution_count": 42,
     "metadata": {},
     "output_type": "execute_result"
    }
   ],
   "source": [
    "odd_nums.take(1)"
   ]
  },
  {
   "cell_type": "code",
   "execution_count": 43,
   "metadata": {
    "hideCode": false,
    "hidePrompt": true
   },
   "outputs": [
    {
     "data": {
      "text/plain": [
       "1"
      ]
     },
     "execution_count": 43,
     "metadata": {},
     "output_type": "execute_result"
    }
   ],
   "source": [
    "odd_nums.first()"
   ]
  },
  {
   "cell_type": "markdown",
   "metadata": {
    "hideCode": true,
    "hidePrompt": true
   },
   "source": [
    "### Whats the difference between sample() and takeSample()?\n",
    "\n",
    "\n",
    "### Sample\n",
    "Sample(withReplacement=True, fraction=0.5, seed=1) **transformation**\n",
    "- **CREATES A NEW RDD** with random elements form the calling RDD\n",
    "- with replacement (with repeats)\n",
    "- fraction - expected positive\n",
    "- expected probability element is used\n",
    "- seed (for standardizing randomiztion) - otherwise default based on millisecond time\n",
    "\n",
    "### takeSample\n",
    "takesSample (with replacement , num, seed) : ** action **\n",
    "- returns fixed size sample subset of an RDD as an **ARRAY**\n",
    "- with replacement allow sample multiple times\n",
    "- num - example number of sampled element\n",
    "- seed\n"
   ]
  },
  {
   "cell_type": "markdown",
   "metadata": {
    "hideCode": true,
    "hidePrompt": true
   },
   "source": [
    "### Example 5-1\n",
    "\n",
    "Try collect(), count(), countByValue(), top(n), take(n), first(), takeSample(), operations on Z"
   ]
  },
  {
   "cell_type": "code",
   "execution_count": 13,
   "metadata": {
    "collapsed": true,
    "hideCode": true,
    "hidePrompt": true
   },
   "outputs": [],
   "source": [
    "x = sc.parallelize([3,4,1,2])\n",
    "y = sc.parallelize(range(2,6))\n",
    "z = x.union(y)"
   ]
  },
  {
   "cell_type": "code",
   "execution_count": 14,
   "metadata": {
    "hideCode": true,
    "hidePrompt": true
   },
   "outputs": [
    {
     "data": {
      "text/plain": [
       "[3, 4, 1, 2, 2, 3, 4, 5]"
      ]
     },
     "execution_count": 14,
     "metadata": {},
     "output_type": "execute_result"
    }
   ],
   "source": [
    "z.collect()"
   ]
  },
  {
   "cell_type": "code",
   "execution_count": 15,
   "metadata": {
    "hideCode": true,
    "hidePrompt": true
   },
   "outputs": [
    {
     "data": {
      "text/plain": [
       "8"
      ]
     },
     "execution_count": 15,
     "metadata": {},
     "output_type": "execute_result"
    }
   ],
   "source": [
    "z.count()"
   ]
  },
  {
   "cell_type": "code",
   "execution_count": 16,
   "metadata": {
    "hideCode": true,
    "hidePrompt": true
   },
   "outputs": [
    {
     "data": {
      "text/plain": [
       "defaultdict(int, {1: 1, 2: 2, 3: 2, 4: 2, 5: 1})"
      ]
     },
     "execution_count": 16,
     "metadata": {},
     "output_type": "execute_result"
    }
   ],
   "source": [
    "z.countByValue()"
   ]
  },
  {
   "cell_type": "code",
   "execution_count": 17,
   "metadata": {
    "hideCode": true,
    "hidePrompt": true
   },
   "outputs": [
    {
     "data": {
      "text/plain": [
       "[5, 4, 4]"
      ]
     },
     "execution_count": 17,
     "metadata": {},
     "output_type": "execute_result"
    }
   ],
   "source": [
    "z.top(3)"
   ]
  },
  {
   "cell_type": "code",
   "execution_count": 18,
   "metadata": {
    "hideCode": true,
    "hidePrompt": true
   },
   "outputs": [
    {
     "data": {
      "text/plain": [
       "[3, 4, 1]"
      ]
     },
     "execution_count": 18,
     "metadata": {},
     "output_type": "execute_result"
    }
   ],
   "source": [
    "z.take(3)"
   ]
  },
  {
   "cell_type": "code",
   "execution_count": 19,
   "metadata": {
    "hideCode": true,
    "hidePrompt": true
   },
   "outputs": [
    {
     "data": {
      "text/plain": [
       "3"
      ]
     },
     "execution_count": 19,
     "metadata": {},
     "output_type": "execute_result"
    }
   ],
   "source": [
    "z.first()"
   ]
  },
  {
   "cell_type": "code",
   "execution_count": 20,
   "metadata": {
    "hideCode": true,
    "hidePrompt": true
   },
   "outputs": [
    {
     "data": {
      "text/plain": [
       "[2, 1, 3]"
      ]
     },
     "execution_count": 20,
     "metadata": {},
     "output_type": "execute_result"
    }
   ],
   "source": [
    "z.takeSample(withReplacement=False,num=3,seed=None)"
   ]
  },
  {
   "cell_type": "code",
   "execution_count": 21,
   "metadata": {
    "hideCode": true,
    "hidePrompt": true
   },
   "outputs": [
    {
     "data": {
      "text/plain": [
       "[3, 2, 3, 2, 4, 3, 5, 2, 4, 1, 2, 4, 2, 4, 2, 3, 2, 2, 3, 4]"
      ]
     },
     "execution_count": 21,
     "metadata": {},
     "output_type": "execute_result"
    }
   ],
   "source": [
    "z.takeSample(withReplacement=True,num=20,seed=None)"
   ]
  },
  {
   "cell_type": "code",
   "execution_count": 22,
   "metadata": {
    "hideCode": true,
    "hidePrompt": true
   },
   "outputs": [
    {
     "data": {
      "text/plain": [
       "[[], [3], [], [4], [], [1], [], [2], [], [2], [], [3], [], [4], [], [5]]"
      ]
     },
     "execution_count": 22,
     "metadata": {},
     "output_type": "execute_result"
    }
   ],
   "source": [
    "z.glom().collect()"
   ]
  },
  {
   "cell_type": "code",
   "execution_count": 23,
   "metadata": {
    "hideCode": true,
    "hidePrompt": true
   },
   "outputs": [
    {
     "data": {
      "text/plain": [
       "[[], [], [], [], [], [], [], [], [], [2], [], [], [], [], [], [5]]"
      ]
     },
     "execution_count": 23,
     "metadata": {},
     "output_type": "execute_result"
    }
   ],
   "source": [
    "res = z.sample(True,0.5)\n",
    "res.glom().collect()"
   ]
  },
  {
   "cell_type": "code",
   "execution_count": 24,
   "metadata": {
    "hideCode": true,
    "hidePrompt": true
   },
   "outputs": [],
   "source": [
    "b = z.foreach(lambda x : x+1)"
   ]
  },
  {
   "cell_type": "markdown",
   "metadata": {
    "hideCode": true,
    "hidePrompt": true
   },
   "source": [
    "## Week 3 - Pair RDDs\n",
    "\n",
    "Pair RDDs are a **key value pair**. \n",
    "\n",
    "|Key|value|\n",
    "|---|------------------------------|\n",
    "|001| 'some data that i have added'|\n",
    "\n",
    "Very common structure for schemaless data or NoSQL. In NoSQL - key is unique. Spark, key could be duplicated. Key could show up in multiple places\n",
    "\n",
    "#### Keys \n",
    "Could be simple, or complex objects (tuples)\n",
    "Could be simple, or a complex json"
   ]
  },
  {
   "cell_type": "markdown",
   "metadata": {
    "hideCode": true,
    "hidePrompt": true
   },
   "source": [
    "#### Exercise 1 - get words from readme file"
   ]
  },
  {
   "cell_type": "code",
   "execution_count": 6,
   "metadata": {
    "hideCode": false,
    "hidePrompt": true
   },
   "outputs": [],
   "source": [
    "path = '/Users/owner/USF/spark/README.md'\n",
    "readme = sc.textFile(path)"
   ]
  },
  {
   "cell_type": "code",
   "execution_count": 7,
   "metadata": {
    "hideCode": false,
    "hidePrompt": true
   },
   "outputs": [
    {
     "data": {
      "text/plain": [
       "[(u'#', 1),\n",
       " (u'Apache', 1),\n",
       " (u'Spark', 1),\n",
       " (u'', 1),\n",
       " (u'Spark', 1),\n",
       " (u'is', 1),\n",
       " (u'a', 1),\n",
       " (u'fast', 1),\n",
       " (u'and', 1),\n",
       " (u'general', 1)]"
      ]
     },
     "execution_count": 7,
     "metadata": {},
     "output_type": "execute_result"
    }
   ],
   "source": [
    "words = readme.flatMap(lambda x: x.split(' '))\n",
    "word_count = words.map(lambda x: (x,1))\n",
    "word_count.collect()[:10]"
   ]
  },
  {
   "cell_type": "markdown",
   "metadata": {
    "hideCode": true,
    "hidePrompt": true
   },
   "source": [
    "## Transformations designed for key value pairs\n",
    "\n",
    "|function | description |\n",
    "|-----|------------------|\n",
    "|keys()| gets the keys|\n",
    "|values()| value|\n",
    "\n",
    "\n",
    "Other **transformations on pair RDDs**:\n",
    "- sortByKey()\n",
    "- groupByKey()\n",
    "- mapValues(func)\n",
    "- flatMapValues(func)\n",
    "- reduceByKey()\n",
    "- combineByKey()"
   ]
  },
  {
   "cell_type": "markdown",
   "metadata": {
    "hideCode": true,
    "hidePrompt": true
   },
   "source": [
    "#### Example 2: Do the same but do value as length of word and sort by value"
   ]
  },
  {
   "cell_type": "code",
   "execution_count": 11,
   "metadata": {
    "hideCode": false,
    "hidePrompt": true
   },
   "outputs": [
    {
     "data": {
      "text/plain": [
       "[(115,\n",
       "  u'[IntelliJ](https://cwiki.apache.org/confluence/display/SPARK/Useful+Developer+Tools#UsefulDeveloperTools-IntelliJ).'),\n",
       " (112,\n",
       "  u'[Eclipse](https://cwiki.apache.org/confluence/display/SPARK/Useful+Developer+Tools#UsefulDeveloperTools-Eclipse)'),\n",
       " (96,\n",
       "  u'Version\"](http://spark.apache.org/docs/latest/building-spark.html#specifying-the-hadoop-version)'),\n",
       " (82,\n",
       "  u'3\"](https://cwiki.apache.org/confluence/display/MAVEN/Parallel+builds+in+Maven+3).'),\n",
       " (81,\n",
       "  u'tests](https://cwiki.apache.org/confluence/display/SPARK/Useful+Developer+Tools).'),\n",
       " (65, u'Spark\"](http://spark.apache.org/docs/latest/building-spark.html).'),\n",
       " (62, u'Guide](http://spark.apache.org/docs/latest/configuration.html)'),\n",
       " (57, u'wiki](https://cwiki.apache.org/confluence/display/SPARK).'),\n",
       " (49, u'page](http://spark.apache.org/documentation.html)'),\n",
       " (35, u'sc.parallelize(range(1000)).count()'),\n",
       " (33, u'Maven](http://maven.apache.org/).'),\n",
       " (26, u'<http://spark.apache.org/>'),\n",
       " (24, u'MASTER=spark://host:7077'),\n",
       " (24, u'Spark](#building-spark).'),\n",
       " (18, u'`./bin/run-example'),\n",
       " (17, u'./bin/spark-shell'),\n",
       " (17, u'./bin/run-example'),\n",
       " (17, u'./bin/run-example'),\n",
       " (16, u'sc.parallelize(1'),\n",
       " (16, u'Hadoop-supported')]"
      ]
     },
     "execution_count": 11,
     "metadata": {},
     "output_type": "execute_result"
    }
   ],
   "source": [
    "words = readme.flatMap(lambda x: x.split(' '))\n",
    "word_len = words.map(lambda x: (len(x),x))\n",
    "sorted_list = word_len.sortByKey(ascending=False)\n",
    "sorted_list.collect()[:20]"
   ]
  },
  {
   "cell_type": "markdown",
   "metadata": {
    "hideCode": true,
    "hidePrompt": true
   },
   "source": [
    "**groupByKey()**\n",
    "\n",
    "- group by key\n",
    "- return an RDD  of (Key, ResultIterable)"
   ]
  },
  {
   "cell_type": "markdown",
   "metadata": {
    "hideCode": true,
    "hidePrompt": true
   },
   "source": [
    "#### Example 3 \n",
    "\n",
    "Create a pair RDD with (length of a word, list of words) from README.md"
   ]
  },
  {
   "cell_type": "code",
   "execution_count": 14,
   "metadata": {
    "hideCode": false,
    "hidePrompt": true,
    "scrolled": false
   },
   "outputs": [],
   "source": [
    "words = readme.flatMap(lambda x: x.split(' '))"
   ]
  },
  {
   "cell_type": "code",
   "execution_count": 17,
   "metadata": {
    "hideCode": false,
    "hideOutput": true,
    "hidePrompt": true
   },
   "outputs": [
    {
     "data": {
      "text/plain": [
       "[(1, u'#'), (6, u'Apache'), (5, u'Spark'), (0, u''), (5, u'Spark')]"
      ]
     },
     "execution_count": 17,
     "metadata": {},
     "output_type": "execute_result"
    }
   ],
   "source": [
    "len_word = words.map(lambda x: (len(x), x))\n",
    "len_word.collect()[:5]"
   ]
  },
  {
   "cell_type": "code",
   "execution_count": 20,
   "metadata": {},
   "outputs": [
    {
     "data": {
      "text/plain": [
       "PythonRDD[73] at RDD at PythonRDD.scala:48"
      ]
     },
     "execution_count": 20,
     "metadata": {},
     "output_type": "execute_result"
    }
   ],
   "source": [
    "len_list = len_word.groupByKey().map(lambda x: (x[0],list(x[1])))\n",
    "len_list.sortByKey()"
   ]
  },
  {
   "cell_type": "code",
   "execution_count": 24,
   "metadata": {
    "hideCode": false,
    "hidePrompt": true
   },
   "outputs": [
    {
     "name": "stdout",
     "output_type": "stream",
     "text": [
      "(0, [u'', u'', u'', u'', u'', u'', u'', u'', u'', u'', u'', u'', u'', u'', u'', u'', u'', u'', u'', u'', u'', u'', u'', u'', u'', u'', u'', u'', u'', u'', u'', u'', u'', u'', u'', u'', u'', u'', u'', u'', u'', u'', u'', u'', u'', u'', u'', u'', u'', u'', u'', u'', u'', u'', u'', u'', u'', u'', u'', u'', u'', u'', u'', u'', u'', u'', u'', u''])\n",
      "----------------\n",
      "(1, [u'#', u'a', u'a', u'a', u'a', u'a', u'a', u'N', u'a', u'A', u'a'])\n",
      "----------------\n",
      "(2, [u'is', u'It', u'in', u'R,', u'an', u'It', u'of', u'##', u'on', u'##', u'is', u'To', u'do', u'to', u'do', u'if', u'by', u'-T', u'in', u'is', u'at', u'an', u'##', u'to', u'is', u'to', u'##', u'if', u'##', u'in', u'To', u'of', u'Pi', u'to', u'to', u'be', u'or', u'to', u'on', u'to', u'or', u'to', u'an', u'if', u'is', u'in', u'of', u'if', u'no', u'##', u'is', u'be', u'on', u'to', u'or', u'##', u'to', u'to', u'in', u'of', u'to', u'at', u'on', u'of', u'##', u'to', u'in', u'an', u'on', u'to'])\n",
      "----------------\n",
      "(3, [u'and', u'for', u'Big', u'and', u'and', u'for', u'set', u'SQL', u'for', u'SQL', u'and', u'for', u'for', u'and', u'for', u'You', u'can', u'the', u'the', u'web', u'and', u'and', u'its', u'not', u'you', u'You', u'can', u'one', u'the', u'see', u'the', u'For', u'see', u'and', u'The', u'way', u'the', u'Try', u'the', u'you', u'you', u'can', u'use', u'the', u'And', u'run', u'the', u'>>>', u'the', u'run', u'one', u'use', u'For', u'run', u'the', u'You', u'can', u'set', u'the', u'can', u'run', u'and', u'run', u'one', u'run', u'You', u'can', u'use', u'the', u'the', u'For', u'the', u'are', u'can', u'run', u'see', u'the', u'how', u'for', u'the', u'and', u'the', u'you', u'the', u'the', u'the', u'for', u'for', u'for', u'and', u'the', u'the', u'for', u'how'])\n",
      "----------------\n",
      "(4, [u'fast', u'APIs', u'that', u'data', u'also', u'rich', u'find', u'This', u'file', u'only', u'run:', u'(You', u'need', u'this', u'more', u'than', u'with', u'More', u'from', u'IDE,', u'also', u'also', u'with', u'will', u'when', u'This', u'URL,', u'with', u'with', u'also', u'name', u'Many', u'help', u'Once', u'[run', u'Note', u'uses', u'core', u'talk', u'HDFS', u'have', u'must', u'same', u'that', u'your', u'Hive', u'Hive'])\n",
      "----------------\n"
     ]
    }
   ],
   "source": [
    "\n",
    "for x in len_list.sortByKey().collect()[:5]:\n",
    "    print x[:2]\n",
    "    print '----------------'\n"
   ]
  },
  {
   "cell_type": "markdown",
   "metadata": {
    "hideCode": true,
    "hidePrompt": true
   },
   "source": [
    "### mapValues\n",
    "\n",
    "Pass each value in the key value pair RDD through a map function wihtout changing the keys.\n",
    "\n",
    "Retain the original RDD’s partitioning."
   ]
  },
  {
   "cell_type": "markdown",
   "metadata": {
    "hideCode": true,
    "hidePrompt": true
   },
   "source": [
    "#### Example 4\n",
    "\n",
    "From the “README.md” file:\n",
    "\n",
    "- Extract all the words. (space separated)\n",
    "- Generate key-value pairs of (Word, Occurrence)."
   ]
  },
  {
   "cell_type": "code",
   "execution_count": 28,
   "metadata": {
    "hideCode": false,
    "hidePrompt": true
   },
   "outputs": [
    {
     "data": {
      "text/plain": [
       "[(u'your', 1),\n",
       " (u'you', 4),\n",
       " (u'with', 4),\n",
       " (u'will', 1),\n",
       " (u'wiki](https://cwiki.apache.org/confluence/display/SPARK).', 1),\n",
       " (u'which', 2),\n",
       " (u'when', 1),\n",
       " (u'web', 1),\n",
       " (u'way', 1),\n",
       " (u'versions', 1)]"
      ]
     },
     "execution_count": 28,
     "metadata": {},
     "output_type": "execute_result"
    }
   ],
   "source": [
    "words = readme.flatMap(lambda x: x.split(' '))\n",
    "words = words.map(lambda x: (x,1))\n",
    "word_count = words.groupByKey().mapValues(sum)\n",
    "word_count.sortByKey(ascending=False).collect()[:10]"
   ]
  },
  {
   "cell_type": "code",
   "execution_count": 29,
   "metadata": {},
   "outputs": [
    {
     "data": {
      "text/plain": [
       "[(u'', 68),\n",
       " (u'the', 22),\n",
       " (u'Spark', 15),\n",
       " (u'to', 14),\n",
       " (u'for', 11),\n",
       " (u'and', 11),\n",
       " (u'##', 8),\n",
       " (u'a', 8),\n",
       " (u'run', 7),\n",
       " (u'can', 7)]"
      ]
     },
     "execution_count": 29,
     "metadata": {},
     "output_type": "execute_result"
    }
   ],
   "source": [
    "word_count.sortBy(lambda x: x[1], ascending= False).collect()[:10]"
   ]
  },
  {
   "cell_type": "markdown",
   "metadata": {
    "hideCode": false,
    "hidePrompt": true
   },
   "source": [
    "#### Example 5 - Create a list of (len, word) pairs from len_word pair in Example 3"
   ]
  },
  {
   "cell_type": "code",
   "execution_count": 48,
   "metadata": {},
   "outputs": [],
   "source": [
    "words = readme.flatMap(lambda x: x.split())\n",
    "len_word = words.map(lambda x: (len(x), x))\n",
    "len_word_pair_group = len_word.mapValues(lambda x: list([x]))"
   ]
  },
  {
   "cell_type": "code",
   "execution_count": 49,
   "metadata": {},
   "outputs": [
    {
     "data": {
      "text/plain": [
       "[(1, [u'#']),\n",
       " (6, [u'Apache']),\n",
       " (5, [u'Spark']),\n",
       " (5, [u'Spark']),\n",
       " (2, [u'is']),\n",
       " (1, [u'a']),\n",
       " (4, [u'fast']),\n",
       " (3, [u'and']),\n",
       " (7, [u'general']),\n",
       " (7, [u'cluster'])]"
      ]
     },
     "execution_count": 49,
     "metadata": {},
     "output_type": "execute_result"
    }
   ],
   "source": [
    "len_word_pair_group.collect()[:10]"
   ]
  },
  {
   "cell_type": "markdown",
   "metadata": {
    "hideCode": true,
    "hidePrompt": true
   },
   "source": [
    "### reduceByKey\n",
    "\n",
    "similar to reduce ()\n",
    "reuns in parallel reduce operations\n",
    "\n",
    "#### Example 6 - do the word counts - generate word / occurance again"
   ]
  },
  {
   "cell_type": "code",
   "execution_count": 44,
   "metadata": {
    "hideCode": false,
    "hidePrompt": true
   },
   "outputs": [],
   "source": [
    "words = readme.flatMap(lambda x: x.split())\n",
    "words = words.map(lambda x: (x,1))"
   ]
  },
  {
   "cell_type": "code",
   "execution_count": 47,
   "metadata": {},
   "outputs": [
    {
     "data": {
      "text/plain": [
       "[(u'the', 22),\n",
       " (u'Spark', 15),\n",
       " (u'to', 14),\n",
       " (u'for', 11),\n",
       " (u'and', 11),\n",
       " (u'##', 8),\n",
       " (u'a', 8),\n",
       " (u'run', 7),\n",
       " (u'can', 7),\n",
       " (u'is', 6)]"
      ]
     },
     "execution_count": 47,
     "metadata": {},
     "output_type": "execute_result"
    }
   ],
   "source": [
    "word_occurence = words.reduceByKey(lambda x,y: x+y)\n",
    "word_occurence.sortBy(lambda x: x[1], ascending= False).collect()[:10]"
   ]
  },
  {
   "cell_type": "markdown",
   "metadata": {
    "hideCode": true,
    "hidePrompt": true
   },
   "source": [
    "### Which requires less shuffles?\n",
    "\n",
    "    .groupByKey().mapValues(lambda x : sum(x))\n",
    "    - Sends all the values over first, then condenses 2nd with the mapValues\n",
    "\n",
    "    .reduceByKey(lambda x,y: x+y)\n",
    "    - Does partition accumulation first, then send pair to be combined\n",
    "    - FEWER SHUFFLES"
   ]
  },
  {
   "cell_type": "markdown",
   "metadata": {
    "collapsed": true,
    "hideCode": false,
    "hidePrompt": true
   },
   "source": [
    "### combineByKey(createCombiner, mergeValue, mergeCombiners)\n",
    "\n",
    "Similar to aggregate(). We use it when we need to transform an RDD to another structure (e.g. from key-vslue pair (x, len(x)) to (x, (sum(x), count(key)))\n",
    "\n",
    "- __createCombiner__ - creates an initital value for the Accumulator on a key. In other words, when we first \"see\" the key we create an initial structure using createCombine\n",
    "- __mergeValue__ if we encounter the same key again, we apply the mergeValue function. Note that here we merge two elements of two different structures: 1. key1,(len(x1),1) and 2.(key2, x2), so in mergeValue function we would address it as mergeValue(lambda x,value: (x[0]+value,x[1]+1)) where value is 2nd pair.\n",
    "- __mergeCombiners__ apply this function to merge accumulator from dufferent partitions!\n",
    "\n",
    "Note that combineByKey is essentially simi"
   ]
  },
  {
   "cell_type": "code",
   "execution_count": 15,
   "metadata": {},
   "outputs": [
    {
     "data": {
      "text/plain": [
       "['I love choco, I love coffee, I love coffee']"
      ]
     },
     "execution_count": 15,
     "metadata": {},
     "output_type": "execute_result"
    }
   ],
   "source": [
    "text = [\"I love choco, I love coffee, I love coffee\"]\n",
    "#lines = sc.parallelize([\"spark\",\"spark is fun!\"])\n",
    "text = sc.parallelize(text,6)\n",
    "text.collect()"
   ]
  },
  {
   "cell_type": "code",
   "execution_count": 16,
   "metadata": {},
   "outputs": [
    {
     "data": {
      "text/plain": [
       "[[],\n",
       " [],\n",
       " [],\n",
       " [],\n",
       " [],\n",
       " [(1, 'I'),\n",
       "  (4, 'love'),\n",
       "  (5, 'choco'),\n",
       "  (0, ''),\n",
       "  (1, 'I'),\n",
       "  (4, 'love'),\n",
       "  (6, 'coffee'),\n",
       "  (0, ''),\n",
       "  (1, 'I'),\n",
       "  (4, 'love'),\n",
       "  (6, 'coffee')]]"
      ]
     },
     "execution_count": 16,
     "metadata": {},
     "output_type": "execute_result"
    }
   ],
   "source": [
    "len_word = text.flatMap(lambda x: x.split(','), 6).flatMap(lambda x:x.split(\" \")).map(lambda x:(len(x),x))\n",
    "len_word.glom().collect()"
   ]
  },
  {
   "cell_type": "code",
   "execution_count": 21,
   "metadata": {},
   "outputs": [],
   "source": [
    "def create_combiner(x):\n",
    "    return (1,x)\n",
    "\n",
    "def merge_value(x,y):\n",
    "    return (x[0]+1, x[1] + \",\" +y)\n",
    "\n",
    "def merge_combiner(x,y):\n",
    "    return (x[0]+y[0],x[1]+ \",\" + y[1])\n",
    "combo = len_word.combineByKey((create_combiner), (merge_value),(merge_combiner))"
   ]
  },
  {
   "cell_type": "code",
   "execution_count": 22,
   "metadata": {},
   "outputs": [
    {
     "data": {
      "text/plain": [
       "[(0, (2, ',')),\n",
       " (6, (2, 'coffee,coffee')),\n",
       " (1, (3, 'I,I,I')),\n",
       " (4, (3, 'love,love,love')),\n",
       " (5, (1, 'choco'))]"
      ]
     },
     "execution_count": 22,
     "metadata": {},
     "output_type": "execute_result"
    }
   ],
   "source": [
    "combo.collect()"
   ]
  },
  {
   "cell_type": "markdown",
   "metadata": {},
   "source": [
    "#### Example 7: \n",
    "Using combineByKey(), create pairs (Length of words, (Frequency, a list of words)) from “README.md”"
   ]
  },
  {
   "cell_type": "code",
   "execution_count": 28,
   "metadata": {},
   "outputs": [
    {
     "data": {
      "text/plain": [
       "[u'#', u'Apache', u'Spark']"
      ]
     },
     "execution_count": 28,
     "metadata": {},
     "output_type": "execute_result"
    }
   ],
   "source": [
    "readme = sc.textFile('README.MD')\n",
    "words = readme.flatMap(lambda x: x.split())\n",
    "words.collect()[:3]\n"
   ]
  },
  {
   "cell_type": "code",
   "execution_count": 27,
   "metadata": {},
   "outputs": [
    {
     "data": {
      "text/plain": [
       "[(1, u'#'), (6, u'Apache'), (5, u'Spark')]"
      ]
     },
     "execution_count": 27,
     "metadata": {},
     "output_type": "execute_result"
    }
   ],
   "source": [
    "words_len_pair = words.map(lambda x: (len(x),x))\n",
    "words_len_pair.collect()[:3]"
   ]
  },
  {
   "cell_type": "code",
   "execution_count": 30,
   "metadata": {},
   "outputs": [],
   "source": [
    "words_combined = words_len_pair.combineByKey((lambda x: (1,x)), (lambda x,y: (x[0]+1, x[1] + \";\" +y)),\\\n",
    "                                             (lambda x,y: (x[0]+y[0], x[1] + \"; \" + y[1])))"
   ]
  },
  {
   "cell_type": "code",
   "execution_count": 32,
   "metadata": {},
   "outputs": [
    {
     "data": {
      "text/plain": [
       "[(1, (11, u'#;a;a;a;a; a;a;N;a;A;a')),\n",
       " (2,\n",
       "  (70,\n",
       "   u'is;It;in;R,;an;It;of;##;on;##;is;To;do;to;do;if;by;-T;in;is;at;an;##;to;is;to;##;if; ##;in;To;of;Pi;to;to;be;or;to;on;to;or;to;an;if;is;in;of;if;no;##;is;be;on;to;or;##;to;to;in;of;to;at;on;of;##;to;in;an;on;to')),\n",
       " (3,\n",
       "  (94,\n",
       "   u'and;for;Big;and;and;for;set;SQL;for;SQL;and;for;for;and;for;You;can;the;the;web;and;and;its;not;you;You;can;one;the;see;the;For;see;and;The;way;the;Try;the;you;you;can;use;the; And;run;the;>>>;the;run;one;use;For;run;the;You;can;set;the;can;run;and;run;one;run;You;can;use;the;the;For;the;are;can;run;see;the;how;for;the;and;the;you;the;the;the;for;for;for;and;the;the;for;how')),\n",
       " (4,\n",
       "  (47,\n",
       "   u'fast;APIs;that;data;also;rich;find;This;file;only;run:;(You;need;this;more;than;with;More;from;IDE,; also;also;with;will;when;This;URL,;with;with;also;name;Many;help;Once;[run;Note;uses;core;talk;HDFS;have;must;same;that;your;Hive;Hive')),\n",
       " (5,\n",
       "  (60,\n",
       "   u'Spark;Spark;Data.;Java,;tools;Spark;MLlib;graph;Spark;Spark;basic;setup;Spark;Spark;built;using;build;Spark;clean;build;Spark;using;using;Maven;site,;Spark;using;Scala;Shell;start;using;Spark;Scala;which;1000:;Shell; which;1000:;Spark;comes;them,;YARN,;class;class;print;usage;Tests;first;Spark;tests;tests;About;Spark;other;build;Spark;runs.;refer;build;refer'))]"
      ]
     },
     "execution_count": 32,
     "metadata": {},
     "output_type": "execute_result"
    }
   ],
   "source": [
    "words_combined.sortByKey().collect()[:5]"
   ]
  },
  {
   "cell_type": "code",
   "execution_count": null,
   "metadata": {},
   "outputs": [],
   "source": []
  }
 ],
 "metadata": {
  "hide_code_all_hidden": true,
  "kernelspec": {
   "display_name": "Python 2",
   "language": "python",
   "name": "python2"
  },
  "language_info": {
   "codemirror_mode": {
    "name": "ipython",
    "version": 2
   },
   "file_extension": ".py",
   "mimetype": "text/x-python",
   "name": "python",
   "nbconvert_exporter": "python",
   "pygments_lexer": "ipython2",
   "version": "2.7.13"
  }
 },
 "nbformat": 4,
 "nbformat_minor": 1
}
