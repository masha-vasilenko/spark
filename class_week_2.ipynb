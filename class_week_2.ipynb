{
 "cells": [
  {
   "cell_type": "code",
   "execution_count": 1,
   "metadata": {
    "hideCode": false,
    "hidePrompt": false,
    "scrolled": true
   },
   "outputs": [
    {
     "data": {
      "text/html": [
       "\n",
       "        <div>\n",
       "            <p><b>SparkContext</b></p>\n",
       "\n",
       "            <p><a href=\"http://172.20.10.4:4040\">Spark UI</a></p>\n",
       "\n",
       "            <dl>\n",
       "              <dt>Version</dt>\n",
       "                <dd><code>v2.2.0</code></dd>\n",
       "              <dt>Master</dt>\n",
       "                <dd><code>local[*]</code></dd>\n",
       "              <dt>AppName</dt>\n",
       "                <dd><code>PySparkShell</code></dd>\n",
       "            </dl>\n",
       "        </div>\n",
       "        "
      ],
      "text/plain": [
       "<SparkContext master=local[*] appName=PySparkShell>"
      ]
     },
     "execution_count": 1,
     "metadata": {},
     "output_type": "execute_result"
    }
   ],
   "source": [
    "sc"
   ]
  },
  {
   "cell_type": "markdown",
   "metadata": {
    "hideCode": false,
    "hidePrompt": false
   },
   "source": [
    "**SparkContext** - an application instance that represents the connection to the spark workers and master. It is created by spark driver.\n",
    "Once having SparkContext, we can use it to build RDDs."
   ]
  },
  {
   "cell_type": "markdown",
   "metadata": {
    "hideCode": false,
    "hidePrompt": false
   },
   "source": [
    "## What is RDD (Resilient Distributed Dataset)?\n",
    "\n",
    "This is a dataset that consists of records.\n",
    "\n",
    "**Key properties**\n",
    "\n",
    "- **Distributed:** the data in RDD is divided into **partitions** and distributed as in-memory collections of objects across worker nodes\n",
    "- **Immutable**: once created, RDD is never changed\n",
    "- **Resilient**: is automatically rebuilt on failure. Instead of replication, RDDs track lineage infor to rebuild the lost data\n",
    "\n",
    "\n",
    "#### How to create an RDD?\n",
    "1. Load an external data:"
   ]
  },
  {
   "cell_type": "code",
   "execution_count": 3,
   "metadata": {
    "hideCode": false,
    "hidePrompt": false
   },
   "outputs": [],
   "source": [
    "lines = sc.textFile(\"/Users/owner/USF/spark/2017-msan694-example-master/Data/README.md\")"
   ]
  },
  {
   "cell_type": "code",
   "execution_count": 4,
   "metadata": {
    "hideCode": false,
    "hidePrompt": false
   },
   "outputs": [
    {
     "data": {
      "text/plain": [
       "[u'# Apache Spark',\n",
       " u'',\n",
       " u'Spark is a fast and general cluster computing system for Big Data. It provides',\n",
       " u'high-level APIs in Scala, Java, Python, and R, and an optimized engine that',\n",
       " u'supports general computation graphs for data analysis. It also supports a']"
      ]
     },
     "execution_count": 4,
     "metadata": {},
     "output_type": "execute_result"
    }
   ],
   "source": [
    "lines.take(5)"
   ]
  },
  {
   "cell_type": "markdown",
   "metadata": {
    "hideCode": false,
    "hidePrompt": false
   },
   "source": [
    "2.Taking a collection as a sequence of arrays or lists and creates RDD from elements, distributing to Spark executors in a process "
   ]
  },
  {
   "cell_type": "code",
   "execution_count": 5,
   "metadata": {
    "hideCode": false,
    "hidePrompt": false
   },
   "outputs": [],
   "source": [
    "lines = sc.parallelize([\"spark\",\"spark is fun!\"])"
   ]
  },
  {
   "cell_type": "code",
   "execution_count": 6,
   "metadata": {
    "hideCode": false,
    "hidePrompt": false
   },
   "outputs": [
    {
     "data": {
      "text/plain": [
       "4"
      ]
     },
     "execution_count": 6,
     "metadata": {},
     "output_type": "execute_result"
    }
   ],
   "source": [
    "lines.getNumPartitions() # To see the # of partitions"
   ]
  },
  {
   "cell_type": "markdown",
   "metadata": {
    "hideCode": false,
    "hidePrompt": false
   },
   "source": [
    "### RDD Opeartions\n"
   ]
  },
  {
   "cell_type": "markdown",
   "metadata": {
    "hideCode": false,
    "hidePrompt": false
   },
   "source": [
    "There are two types of operations:\n",
    "1. **Tranformations**: produce **a new RDD** by performing data manipulations on another RDD.\n",
    "\n",
    "Examples:\n",
    "    - map(func): return a new RDD by parsing each element of siource through a *func*\n",
    "    - flatMap(func): calls each element of RDD individually, concatenates multiple arrays in a collection of one level structure\n",
    "    - filter(func): returns an RDD that passes filtering requirements.\n",
    "    - mapPartitions()\n",
    "    - union()\n",
    "    - intersection()\n",
    "    - join()\n",
    "    - aggregateByKey()\n",
    "    - sortByKey()\n",
    "    ...\n",
    "    \n",
    "2. **Actions**: Trigger a computation to return the result to the calling program or to perform some actions on RDD's elements. \n",
    "\n",
    "Examples:\n",
    "    - reduce()\n",
    "    - collect()\n",
    "    - count()\n",
    "    - sum()\n",
    "    - countByValue()\n",
    "    - saveAsTextFile()\n",
    "    ...\n",
    "\n",
    "\n",
    "**Lazy evaluation principle**: computation doesn't take place until an action is triggered."
   ]
  },
  {
   "cell_type": "markdown",
   "metadata": {
    "hideCode": false,
    "hidePrompt": false
   },
   "source": [
    "#### Example 1.1: Load a text file(“ignatian_pedagogy”) and split each line by space."
   ]
  },
  {
   "cell_type": "code",
   "execution_count": 66,
   "metadata": {
    "hideCode": false,
    "hidePrompt": false
   },
   "outputs": [],
   "source": [
    "lines = sc.textFile(\"/Users/owner/USF/spark/2017-msan694-example-master/Data/ignatian_pedagogy\")"
   ]
  },
  {
   "cell_type": "code",
   "execution_count": 67,
   "metadata": {
    "hideCode": false,
    "hidePrompt": false
   },
   "outputs": [
    {
     "data": {
      "text/plain": [
       "[u'= Ignatian Values =',\n",
       " u'The University of San Francisco enjoys a distinguished heritage and Jesuit tradition.  At the core of this tradition are transcendent values, including the integration of learning, faith and service; care for the whole person; character and conviction; religious truth and interfaith understanding; and a commitment to building a more just world.  The key values of this Jesuit tradition are as follows:',\n",
       " u'***********************************************************************************',\n",
       " u\"1. Contemplative in Action - St. Ignatius Loyola believed that prayer and reflectivity should so guide our choices and actions that our activity itself becomes a way of entering into union with and praising God.  Being a contemplative in action also means seeing beyond the superficial in life to appreciate the mystery, beauty, and sacredness of all life.  It is a means of seeing God in all things and in everyone.  Contemplation is a critical dimension of the spiritual life and it is reflected in USF's commitment to prayer and spiritual growth.  Analogously, in the academic life, a spirit of reflectivity is a critical aspect of intellectual inquiry.\",\n",
       " u'',\n",
       " u'2. Academic Excellence - In 1547, the first Jesuits were invited to begin a college in Messina, Italy, so that the young men of that town could receive the same quality of education that the early Jesuits promoted in training their own men.  USF is a descendant of this original Jesuit commitment to education.  Academic excellence describes the great importance that Jesuits have placed on the life of the mind as a means for uncovering truth and discovering meaning.  It is this tradition that imbues the other 27 Jesuit universities and colleges, as well as the Jesuit high schools and middle schools in the US.',\n",
       " u'',\n",
       " u\"3. Educating the Whole Person - St. Ignatius believed that God could be discovered in every human endeavor, in every facet of learning and experience, and in every field of study.  Consequently, he promoted the development of the spiritual, intellectual, artistic, social, and physical aspects of each person.  The commitment to educating the whole person is evident in USF's strong core curriculum and its wide array of learning activities and experiences that bridges cultures and national boundaries.\",\n",
       " u'',\n",
       " u'4. \"Cura Personalis\" - \"Care of the Person\" was originally used to describe the responsibility of the Jesuit Superior to care for each man in the community with his unique gifts, challenges, needs, and possibilities.  This value now is applied more broadly to include the relationship between educators and students, as well as the professional relationships among all those who work in the University.  \"Cura Personalis\" suggests individualized attention to the needs of the other, distinct respect for his or her unique circumstances and concerns, and an appropriate appreciation for his or her particular gifts and insights.',\n",
       " u'',\n",
       " u'5. Women and Men for Others - Fr. Pedro Arrupe, S.J., Superior General of the Society of Jesuis from 1965 to 1981, employed the phrase \"Men for Others\" in a notable 1973 presentation in Valencia, Spain.  Father Arrupe provocatively challenged the alumni of Jesuit schools and universities to be engaged in the struggle for justice to protect the needs of those people who are most vulnerable.  Today this phrase has become more inclusive and its spirit is evidenced in USF\\'s promotion of service projects; justice learning through immersion; and its challenge to students, faculty, staff, and alumni to \"Change the World from Here.\"',\n",
       " u'',\n",
       " u'6. Interreligious Understanding - Reflecting themes from the Second Vatican Council, the 34th General Congregation of the Society of Jesus made a significant commitment to ecumenical and interreligious engagement and understanding.  The USF community comprises a wide variety of religious traditions; and through its University Ministry, it encourages people of different faiths-and no faith-to create an inclusive community that is reflective and authentic in its search for meaning and truth.',\n",
       " u'',\n",
       " u\"7. Community in Diversity - As a Catholic and Jesuit University, USF welcomes and sustains the rich diversity among the students, faculty, and staff that comprises its community.  The USF community continues to be enriched by people of different abilities, ages, colors, creeds, faiths, philosophies, gender orientations, cultures, nationalities, family backgrounds, and educational experiences.  U.S. News and World Report ranks USF among the nation's top 30 university for student ethnic diversity and international student enrollment.\",\n",
       " u'***********************************************************************************']"
      ]
     },
     "execution_count": 67,
     "metadata": {},
     "output_type": "execute_result"
    }
   ],
   "source": [
    "lines.collect()"
   ]
  },
  {
   "cell_type": "code",
   "execution_count": 68,
   "metadata": {
    "hideCode": false,
    "hidePrompt": false
   },
   "outputs": [],
   "source": [
    "words = lines.map(lambda line: line.split(' ')) # split each line by space"
   ]
  },
  {
   "cell_type": "code",
   "execution_count": 70,
   "metadata": {
    "hideCode": false,
    "hidePrompt": false,
    "scrolled": false
   },
   "outputs": [
    {
     "data": {
      "text/plain": [
       "[[u'=', u'Ignatian', u'Values', u'=']]"
      ]
     },
     "execution_count": 70,
     "metadata": {},
     "output_type": "execute_result"
    }
   ],
   "source": [
    "#%%capture # supresses output\n",
    "words.collect()[:1]"
   ]
  },
  {
   "cell_type": "code",
   "execution_count": 71,
   "metadata": {
    "hideCode": false,
    "hidePrompt": false
   },
   "outputs": [
    {
     "data": {
      "text/plain": [
       "17"
      ]
     },
     "execution_count": 71,
     "metadata": {},
     "output_type": "execute_result"
    }
   ],
   "source": [
    "len(lines.collect())"
   ]
  },
  {
   "cell_type": "code",
   "execution_count": 72,
   "metadata": {
    "hideCode": false,
    "hidePrompt": false
   },
   "outputs": [
    {
     "data": {
      "text/plain": [
       "2"
      ]
     },
     "execution_count": 72,
     "metadata": {},
     "output_type": "execute_result"
    }
   ],
   "source": [
    "lines.getNumPartitions()"
   ]
  },
  {
   "cell_type": "markdown",
   "metadata": {
    "hideCode": false,
    "hidePrompt": false
   },
   "source": [
    "#### Example 1.2: Generate a list of words within one level structure. "
   ]
  },
  {
   "cell_type": "code",
   "execution_count": 73,
   "metadata": {
    "hideCode": false,
    "hidePrompt": false
   },
   "outputs": [],
   "source": [
    "words2 = lines.flatMap(lambda line: line.split())"
   ]
  },
  {
   "cell_type": "code",
   "execution_count": 74,
   "metadata": {
    "hideCode": false,
    "hidePrompt": false
   },
   "outputs": [
    {
     "data": {
      "text/plain": [
       "[u'=',\n",
       " u'Ignatian',\n",
       " u'Values',\n",
       " u'=',\n",
       " u'The',\n",
       " u'University',\n",
       " u'of',\n",
       " u'San',\n",
       " u'Francisco',\n",
       " u'enjoys']"
      ]
     },
     "execution_count": 74,
     "metadata": {},
     "output_type": "execute_result"
    }
   ],
   "source": [
    "words2.collect()[:10]"
   ]
  },
  {
   "cell_type": "markdown",
   "metadata": {
    "hideCode": false,
    "hidePrompt": false
   },
   "source": [
    "#### Example 1.3: Find words including “USF”"
   ]
  },
  {
   "cell_type": "code",
   "execution_count": 75,
   "metadata": {
    "hideCode": false,
    "hidePrompt": false
   },
   "outputs": [
    {
     "data": {
      "text/plain": [
       "[u'=',\n",
       " u'Ignatian',\n",
       " u'Values',\n",
       " u'=',\n",
       " u'The',\n",
       " u'University',\n",
       " u'of',\n",
       " u'San',\n",
       " u'Francisco',\n",
       " u'enjoys']"
      ]
     },
     "execution_count": 75,
     "metadata": {},
     "output_type": "execute_result"
    }
   ],
   "source": [
    "words = lines.flatMap(lambda line: line.split(\" \"))\n",
    "words.collect()[:10]"
   ]
  },
  {
   "cell_type": "code",
   "execution_count": 76,
   "metadata": {
    "hideCode": false,
    "hidePrompt": false
   },
   "outputs": [
    {
     "data": {
      "text/plain": [
       "[u'=',\n",
       " u'Ignatian',\n",
       " u'Values',\n",
       " u'=',\n",
       " u'The',\n",
       " u'University',\n",
       " u'of',\n",
       " u'San',\n",
       " u'Francisco',\n",
       " u'enjoys']"
      ]
     },
     "execution_count": 76,
     "metadata": {},
     "output_type": "execute_result"
    }
   ],
   "source": [
    "search = words.filter(lambda word: word is not u'')\n",
    "search.collect()[:10]"
   ]
  },
  {
   "cell_type": "code",
   "execution_count": 77,
   "metadata": {
    "hideCode": false,
    "hidePrompt": false
   },
   "outputs": [],
   "source": [
    "search_usf = search.filter(lambda word: \"USF\" in word)"
   ]
  },
  {
   "cell_type": "code",
   "execution_count": 78,
   "metadata": {
    "hideCode": false,
    "hidePrompt": false
   },
   "outputs": [
    {
     "data": {
      "text/plain": [
       "[u\"USF's\", u'USF', u\"USF's\", u\"USF's\", u'USF', u'USF', u'USF', u'USF']"
      ]
     },
     "execution_count": 78,
     "metadata": {},
     "output_type": "execute_result"
    }
   ],
   "source": [
    "search_usf.collect()[:10]"
   ]
  },
  {
   "cell_type": "markdown",
   "metadata": {
    "hideCode": false,
    "hidePrompt": false
   },
   "source": [
    "### Partition-wise Transformations:\n",
    "\n",
    "- mapPartition(func): returns a new RDD by applying a function to each partition\n",
    "- mapPartitionWithIndex(func): returns a new RDD by applying a function to each partition, while trackin the index of the original partition"
   ]
  },
  {
   "cell_type": "markdown",
   "metadata": {
    "hideCode": false,
    "hidePrompt": false
   },
   "source": [
    "#### Example 1.4"
   ]
  },
  {
   "cell_type": "code",
   "execution_count": 89,
   "metadata": {
    "hideCode": false,
    "hidePrompt": false
   },
   "outputs": [],
   "source": [
    "def split_func(partition):\n",
    "    word = str(list(partition)).split()\n",
    "    return word"
   ]
  },
  {
   "cell_type": "code",
   "execution_count": 93,
   "metadata": {
    "hideCode": false,
    "hidePrompt": false
   },
   "outputs": [
    {
     "data": {
      "text/plain": [
       "[\"[u'=\",\n",
       " 'Ignatian',\n",
       " 'Values',\n",
       " \"=',\",\n",
       " \"u'The\",\n",
       " 'University',\n",
       " 'of',\n",
       " 'San',\n",
       " 'Francisco',\n",
       " 'enjoys',\n",
       " 'a',\n",
       " 'distinguished',\n",
       " 'heritage',\n",
       " 'and',\n",
       " 'Jesuit']"
      ]
     },
     "execution_count": 93,
     "metadata": {},
     "output_type": "execute_result"
    }
   ],
   "source": [
    "words = lines.mapPartitions(split_func)\n",
    "words.collect()[:15]"
   ]
  },
  {
   "cell_type": "markdown",
   "metadata": {
    "hideCode": false,
    "hideOutput": true,
    "hidePrompt": false
   },
   "source": [
    "#### Example 1.5"
   ]
  },
  {
   "cell_type": "code",
   "execution_count": 102,
   "metadata": {
    "hideCode": false,
    "hidePrompt": false
   },
   "outputs": [],
   "source": [
    "def split_function_index(index, partition):\n",
    "    word = str(list(partition)).split()\n",
    "    output = str(word) + \":\" + str(index)\n",
    "    yield output"
   ]
  },
  {
   "cell_type": "code",
   "execution_count": 104,
   "metadata": {
    "hideCode": false,
    "hidePrompt": false
   },
   "outputs": [
    {
     "data": {
      "text/plain": [
       "['[\"[u\\'=\", \\'Ignatian\\', \\'Values\\', \"=\\',\", \"u\\'The\", \\'University\\', \\'of\\', \\'San\\', \\'Francisco\\', \\'enjoys\\', \\'a\\', \\'distinguished\\', \\'heritage\\', \\'and\\', \\'Jesuit\\', \\'tradition.\\', \\'At\\', \\'the\\', \\'core\\', \\'of\\', \\'this\\', \\'tradition\\', \\'are\\', \\'transcendent\\', \\'values,\\', \\'including\\', \\'the\\', \\'integration\\', \\'of\\', \\'learning,\\', \\'faith\\', \\'and\\', \\'service;\\', \\'care\\', \\'for\\', \\'the\\', \\'whole\\', \\'person;\\', \\'character\\', \\'and\\', \\'conviction;\\', \\'religious\\', \\'truth\\', \\'and\\', \\'interfaith\\', \\'understanding;\\', \\'and\\', \\'a\\', \\'commitment\\', \\'to\\', \\'building\\', \\'a\\', \\'more\\', \\'just\\', \\'world.\\', \\'The\\', \\'key\\', \\'values\\', \\'of\\', \\'this\\', \\'Jesuit\\', \\'tradition\\', \\'are\\', \\'as\\', \"follows:\\',\", \"u\\'***********************************************************************************\\',\", \\'u\"1.\\', \\'Contemplative\\', \\'in\\', \\'Action\\', \\'-\\', \\'St.\\', \\'Ignatius\\', \\'Loyola\\', \\'believed\\', \\'that\\', \\'prayer\\', \\'and\\', \\'reflectivity\\', \\'should\\', \\'so\\', \\'guide\\', \\'our\\', \\'choices\\', \\'and\\', \\'actions\\', \\'that\\', \\'our\\', \\'activity\\', \\'itself\\', \\'becomes\\', \\'a\\', \\'way\\', \\'of\\', \\'entering\\', \\'into\\', \\'union\\', \\'with\\', \\'and\\', \\'praising\\', \\'God.\\', \\'Being\\', \\'a\\', \\'contemplative\\', \\'in\\', \\'action\\', \\'also\\', \\'means\\', \\'seeing\\', \\'beyond\\', \\'the\\', \\'superficial\\', \\'in\\', \\'life\\', \\'to\\', \\'appreciate\\', \\'the\\', \\'mystery,\\', \\'beauty,\\', \\'and\\', \\'sacredness\\', \\'of\\', \\'all\\', \\'life.\\', \\'It\\', \\'is\\', \\'a\\', \\'means\\', \\'of\\', \\'seeing\\', \\'God\\', \\'in\\', \\'all\\', \\'things\\', \\'and\\', \\'in\\', \\'everyone.\\', \\'Contemplation\\', \\'is\\', \\'a\\', \\'critical\\', \\'dimension\\', \\'of\\', \\'the\\', \\'spiritual\\', \\'life\\', \\'and\\', \\'it\\', \\'is\\', \\'reflected\\', \\'in\\', \"USF\\'s\", \\'commitment\\', \\'to\\', \\'prayer\\', \\'and\\', \\'spiritual\\', \\'growth.\\', \\'Analogously,\\', \\'in\\', \\'the\\', \\'academic\\', \\'life,\\', \\'a\\', \\'spirit\\', \\'of\\', \\'reflectivity\\', \\'is\\', \\'a\\', \\'critical\\', \\'aspect\\', \\'of\\', \\'intellectual\\', \\'inquiry.\",\\', \"u\\'\\',\", \"u\\'2.\", \\'Academic\\', \\'Excellence\\', \\'-\\', \\'In\\', \\'1547,\\', \\'the\\', \\'first\\', \\'Jesuits\\', \\'were\\', \\'invited\\', \\'to\\', \\'begin\\', \\'a\\', \\'college\\', \\'in\\', \\'Messina,\\', \\'Italy,\\', \\'so\\', \\'that\\', \\'the\\', \\'young\\', \\'men\\', \\'of\\', \\'that\\', \\'town\\', \\'could\\', \\'receive\\', \\'the\\', \\'same\\', \\'quality\\', \\'of\\', \\'education\\', \\'that\\', \\'the\\', \\'early\\', \\'Jesuits\\', \\'promoted\\', \\'in\\', \\'training\\', \\'their\\', \\'own\\', \\'men.\\', \\'USF\\', \\'is\\', \\'a\\', \\'descendant\\', \\'of\\', \\'this\\', \\'original\\', \\'Jesuit\\', \\'commitment\\', \\'to\\', \\'education.\\', \\'Academic\\', \\'excellence\\', \\'describes\\', \\'the\\', \\'great\\', \\'importance\\', \\'that\\', \\'Jesuits\\', \\'have\\', \\'placed\\', \\'on\\', \\'the\\', \\'life\\', \\'of\\', \\'the\\', \\'mind\\', \\'as\\', \\'a\\', \\'means\\', \\'for\\', \\'uncovering\\', \\'truth\\', \\'and\\', \\'discovering\\', \\'meaning.\\', \\'It\\', \\'is\\', \\'this\\', \\'tradition\\', \\'that\\', \\'imbues\\', \\'the\\', \\'other\\', \\'27\\', \\'Jesuit\\', \\'universities\\', \\'and\\', \\'colleges,\\', \\'as\\', \\'well\\', \\'as\\', \\'the\\', \\'Jesuit\\', \\'high\\', \\'schools\\', \\'and\\', \\'middle\\', \\'schools\\', \\'in\\', \\'the\\', \"US.\\',\", \"u\\'\\',\", \\'u\"3.\\', \\'Educating\\', \\'the\\', \\'Whole\\', \\'Person\\', \\'-\\', \\'St.\\', \\'Ignatius\\', \\'believed\\', \\'that\\', \\'God\\', \\'could\\', \\'be\\', \\'discovered\\', \\'in\\', \\'every\\', \\'human\\', \\'endeavor,\\', \\'in\\', \\'every\\', \\'facet\\', \\'of\\', \\'learning\\', \\'and\\', \\'experience,\\', \\'and\\', \\'in\\', \\'every\\', \\'field\\', \\'of\\', \\'study.\\', \\'Consequently,\\', \\'he\\', \\'promoted\\', \\'the\\', \\'development\\', \\'of\\', \\'the\\', \\'spiritual,\\', \\'intellectual,\\', \\'artistic,\\', \\'social,\\', \\'and\\', \\'physical\\', \\'aspects\\', \\'of\\', \\'each\\', \\'person.\\', \\'The\\', \\'commitment\\', \\'to\\', \\'educating\\', \\'the\\', \\'whole\\', \\'person\\', \\'is\\', \\'evident\\', \\'in\\', \"USF\\'s\", \\'strong\\', \\'core\\', \\'curriculum\\', \\'and\\', \\'its\\', \\'wide\\', \\'array\\', \\'of\\', \\'learning\\', \\'activities\\', \\'and\\', \\'experiences\\', \\'that\\', \\'bridges\\', \\'cultures\\', \\'and\\', \\'national\\', \\'boundaries.\",\\', \"u\\'\\',\", \"u\\'4.\", \\'\"Cura\\', \\'Personalis\"\\', \\'-\\', \\'\"Care\\', \\'of\\', \\'the\\', \\'Person\"\\', \\'was\\', \\'originally\\', \\'used\\', \\'to\\', \\'describe\\', \\'the\\', \\'responsibility\\', \\'of\\', \\'the\\', \\'Jesuit\\', \\'Superior\\', \\'to\\', \\'care\\', \\'for\\', \\'each\\', \\'man\\', \\'in\\', \\'the\\', \\'community\\', \\'with\\', \\'his\\', \\'unique\\', \\'gifts,\\', \\'challenges,\\', \\'needs,\\', \\'and\\', \\'possibilities.\\', \\'This\\', \\'value\\', \\'now\\', \\'is\\', \\'applied\\', \\'more\\', \\'broadly\\', \\'to\\', \\'include\\', \\'the\\', \\'relationship\\', \\'between\\', \\'educators\\', \\'and\\', \\'students,\\', \\'as\\', \\'well\\', \\'as\\', \\'the\\', \\'professional\\', \\'relationships\\', \\'among\\', \\'all\\', \\'those\\', \\'who\\', \\'work\\', \\'in\\', \\'the\\', \\'University.\\', \\'\"Cura\\', \\'Personalis\"\\', \\'suggests\\', \\'individualized\\', \\'attention\\', \\'to\\', \\'the\\', \\'needs\\', \\'of\\', \\'the\\', \\'other,\\', \\'distinct\\', \\'respect\\', \\'for\\', \\'his\\', \\'or\\', \\'her\\', \\'unique\\', \\'circumstances\\', \\'and\\', \\'concerns,\\', \\'and\\', \\'an\\', \\'appropriate\\', \\'appreciation\\', \\'for\\', \\'his\\', \\'or\\', \\'her\\', \\'particular\\', \\'gifts\\', \\'and\\', \"insights.\\']\"]:0',\n",
       " '[\"[u\\'\\',\", \"u\\'5.\", \\'Women\\', \\'and\\', \\'Men\\', \\'for\\', \\'Others\\', \\'-\\', \\'Fr.\\', \\'Pedro\\', \\'Arrupe,\\', \\'S.J.,\\', \\'Superior\\', \\'General\\', \\'of\\', \\'the\\', \\'Society\\', \\'of\\', \\'Jesuis\\', \\'from\\', \\'1965\\', \\'to\\', \\'1981,\\', \\'employed\\', \\'the\\', \\'phrase\\', \\'\"Men\\', \\'for\\', \\'Others\"\\', \\'in\\', \\'a\\', \\'notable\\', \\'1973\\', \\'presentation\\', \\'in\\', \\'Valencia,\\', \\'Spain.\\', \\'Father\\', \\'Arrupe\\', \\'provocatively\\', \\'challenged\\', \\'the\\', \\'alumni\\', \\'of\\', \\'Jesuit\\', \\'schools\\', \\'and\\', \\'universities\\', \\'to\\', \\'be\\', \\'engaged\\', \\'in\\', \\'the\\', \\'struggle\\', \\'for\\', \\'justice\\', \\'to\\', \\'protect\\', \\'the\\', \\'needs\\', \\'of\\', \\'those\\', \\'people\\', \\'who\\', \\'are\\', \\'most\\', \\'vulnerable.\\', \\'Today\\', \\'this\\', \\'phrase\\', \\'has\\', \\'become\\', \\'more\\', \\'inclusive\\', \\'and\\', \\'its\\', \\'spirit\\', \\'is\\', \\'evidenced\\', \\'in\\', \"USF\\\\\\\\\\'s\", \\'promotion\\', \\'of\\', \\'service\\', \\'projects;\\', \\'justice\\', \\'learning\\', \\'through\\', \\'immersion;\\', \\'and\\', \\'its\\', \\'challenge\\', \\'to\\', \\'students,\\', \\'faculty,\\', \\'staff,\\', \\'and\\', \\'alumni\\', \\'to\\', \\'\"Change\\', \\'the\\', \\'World\\', \\'from\\', \\'Here.\"\\\\\\',\\', \"u\\'\\',\", \"u\\'6.\", \\'Interreligious\\', \\'Understanding\\', \\'-\\', \\'Reflecting\\', \\'themes\\', \\'from\\', \\'the\\', \\'Second\\', \\'Vatican\\', \\'Council,\\', \\'the\\', \\'34th\\', \\'General\\', \\'Congregation\\', \\'of\\', \\'the\\', \\'Society\\', \\'of\\', \\'Jesus\\', \\'made\\', \\'a\\', \\'significant\\', \\'commitment\\', \\'to\\', \\'ecumenical\\', \\'and\\', \\'interreligious\\', \\'engagement\\', \\'and\\', \\'understanding.\\', \\'The\\', \\'USF\\', \\'community\\', \\'comprises\\', \\'a\\', \\'wide\\', \\'variety\\', \\'of\\', \\'religious\\', \\'traditions;\\', \\'and\\', \\'through\\', \\'its\\', \\'University\\', \\'Ministry,\\', \\'it\\', \\'encourages\\', \\'people\\', \\'of\\', \\'different\\', \\'faiths-and\\', \\'no\\', \\'faith-to\\', \\'create\\', \\'an\\', \\'inclusive\\', \\'community\\', \\'that\\', \\'is\\', \\'reflective\\', \\'and\\', \\'authentic\\', \\'in\\', \\'its\\', \\'search\\', \\'for\\', \\'meaning\\', \\'and\\', \"truth.\\',\", \"u\\'\\',\", \\'u\"7.\\', \\'Community\\', \\'in\\', \\'Diversity\\', \\'-\\', \\'As\\', \\'a\\', \\'Catholic\\', \\'and\\', \\'Jesuit\\', \\'University,\\', \\'USF\\', \\'welcomes\\', \\'and\\', \\'sustains\\', \\'the\\', \\'rich\\', \\'diversity\\', \\'among\\', \\'the\\', \\'students,\\', \\'faculty,\\', \\'and\\', \\'staff\\', \\'that\\', \\'comprises\\', \\'its\\', \\'community.\\', \\'The\\', \\'USF\\', \\'community\\', \\'continues\\', \\'to\\', \\'be\\', \\'enriched\\', \\'by\\', \\'people\\', \\'of\\', \\'different\\', \\'abilities,\\', \\'ages,\\', \\'colors,\\', \\'creeds,\\', \\'faiths,\\', \\'philosophies,\\', \\'gender\\', \\'orientations,\\', \\'cultures,\\', \\'nationalities,\\', \\'family\\', \\'backgrounds,\\', \\'and\\', \\'educational\\', \\'experiences.\\', \\'U.S.\\', \\'News\\', \\'and\\', \\'World\\', \\'Report\\', \\'ranks\\', \\'USF\\', \\'among\\', \\'the\\', \"nation\\'s\", \\'top\\', \\'30\\', \\'university\\', \\'for\\', \\'student\\', \\'ethnic\\', \\'diversity\\', \\'and\\', \\'international\\', \\'student\\', \\'enrollment.\",\\', \"u\\'***********************************************************************************\\']\"]:1']"
      ]
     },
     "execution_count": 104,
     "metadata": {},
     "output_type": "execute_result"
    }
   ],
   "source": [
    "words = lines.mapPartitionsWithIndex(split_function_index)\n",
    "words.collect()[:2]"
   ]
  },
  {
   "cell_type": "code",
   "execution_count": null,
   "metadata": {
    "hideCode": false,
    "hidePrompt": false
   },
   "outputs": [],
   "source": []
  },
  {
   "cell_type": "markdown",
   "metadata": {
    "hideCode": false,
    "hidePrompt": false
   },
   "source": [
    "#### Example 2:  \n",
    "Parallelize numbers between 1 and 16. Calculate the count and sum in each partition."
   ]
  },
  {
   "cell_type": "code",
   "execution_count": 26,
   "metadata": {
    "hideCode": false,
    "hidePrompt": false
   },
   "outputs": [
    {
     "data": {
      "text/plain": [
       "[[1, 2], [3, 4], [5, 6], [7, 8], [9, 10], [11, 12], [13, 14], [15, 16]]"
      ]
     },
     "execution_count": 26,
     "metadata": {},
     "output_type": "execute_result"
    }
   ],
   "source": [
    "numbers= sc.parallelize(range(1,17), 8)\n",
    "numbers.glom().collect() # glom() allows us to see the allocations by partitions"
   ]
  },
  {
   "cell_type": "code",
   "execution_count": 27,
   "metadata": {
    "hideCode": false,
    "hidePrompt": false
   },
   "outputs": [],
   "source": [
    "#Defining the fucntion that returns a count and a sum as a list\n",
    "def count_sum(nums):\n",
    "    count_sum = [0,0]\n",
    "    for num in nums:\n",
    "        count_sum[0] +=1\n",
    "        count_sum[1] +=num\n",
    "    return count_sum"
   ]
  },
  {
   "cell_type": "code",
   "execution_count": 28,
   "metadata": {
    "hideCode": false,
    "hidePrompt": false
   },
   "outputs": [],
   "source": [
    "partition_count_sum = numbers.mapPartitions(count_sum)"
   ]
  },
  {
   "cell_type": "code",
   "execution_count": 29,
   "metadata": {
    "hideCode": false,
    "hidePrompt": false
   },
   "outputs": [
    {
     "data": {
      "text/plain": [
       "[[2, 3], [2, 7], [2, 11], [2, 15], [2, 19], [2, 23], [2, 27], [2, 31]]"
      ]
     },
     "execution_count": 29,
     "metadata": {},
     "output_type": "execute_result"
    }
   ],
   "source": [
    "partition_count_sum.glom().collect()"
   ]
  },
  {
   "cell_type": "code",
   "execution_count": 40,
   "metadata": {
    "hideCode": false,
    "hidePrompt": false
   },
   "outputs": [],
   "source": []
  },
  {
   "cell_type": "code",
   "execution_count": 41,
   "metadata": {
    "hideCode": false,
    "hidePrompt": false
   },
   "outputs": [],
   "source": [
    "# Find the total count and sum\n",
    "one_num = numbers.map(lambda x: [1,x])"
   ]
  },
  {
   "cell_type": "code",
   "execution_count": 35,
   "metadata": {
    "hideCode": false,
    "hidePrompt": false
   },
   "outputs": [
    {
     "data": {
      "text/plain": [
       "[[[1, 1], [1, 2]],\n",
       " [[1, 3], [1, 4]],\n",
       " [[1, 5], [1, 6]],\n",
       " [[1, 7], [1, 8]],\n",
       " [[1, 9], [1, 10]],\n",
       " [[1, 11], [1, 12]],\n",
       " [[1, 13], [1, 14]],\n",
       " [[1, 15], [1, 16]]]"
      ]
     },
     "execution_count": 35,
     "metadata": {},
     "output_type": "execute_result"
    }
   ],
   "source": [
    "one_num.glom().collect()"
   ]
  },
  {
   "cell_type": "code",
   "execution_count": 39,
   "metadata": {
    "hideCode": false,
    "hidePrompt": false
   },
   "outputs": [
    {
     "data": {
      "text/plain": [
       "[16, 136]"
      ]
     },
     "execution_count": 39,
     "metadata": {},
     "output_type": "execute_result"
    }
   ],
   "source": [
    "count_sum = one_num.reduce(lambda x,y: [x[0]+y[0],x[1]+y[1]])\n",
    "count_sum"
   ]
  },
  {
   "cell_type": "code",
   "execution_count": 42,
   "metadata": {
    "hideCode": false,
    "hidePrompt": false
   },
   "outputs": [
    {
     "data": {
      "text/plain": [
       "8.5"
      ]
     },
     "execution_count": 42,
     "metadata": {},
     "output_type": "execute_result"
    }
   ],
   "source": [
    "average = float(count_sum[1])/float(count_sum[0])\n",
    "average"
   ]
  },
  {
   "cell_type": "markdown",
   "metadata": {
    "hideCode": false,
    "hidePrompt": false
   },
   "source": [
    "### Set operations:\n",
    "*Format*: \n",
    "    **rdd1.operator(rdd2)**\n",
    "- **distinct():** returns only one of each element\n",
    "- **union():** if there are duplicates, returns all duplicates\n",
    "- **intersection:** returns common elements\n",
    "- **subtract()**: returns elements that are in rdd1 only\n",
    "- **cartesian()**: returns cartesian product (all pairs between rdd1 and rdd2)"
   ]
  },
  {
   "cell_type": "markdown",
   "metadata": {
    "hideCode": false,
    "hidePrompt": false
   },
   "source": [
    "#### Example 3.1: Find distinct words in “ignatian_pedagogy\""
   ]
  },
  {
   "cell_type": "code",
   "execution_count": 79,
   "metadata": {
    "hideCode": false,
    "hidePrompt": false
   },
   "outputs": [],
   "source": [
    "lines = sc.textFile(\"/Users/owner/USF/spark/2017-msan694-example-master/Data/ignatian_pedagogy\")\n",
    "words = lines.flatMap(lambda line: line.split(' '))\n"
   ]
  },
  {
   "cell_type": "code",
   "execution_count": 81,
   "metadata": {
    "hideCode": false,
    "hidePrompt": false
   },
   "outputs": [
    {
     "data": {
      "text/plain": [
       "381"
      ]
     },
     "execution_count": 81,
     "metadata": {},
     "output_type": "execute_result"
    }
   ],
   "source": [
    "#Count the number of distinct words\n",
    "distinct_words = words.distinct()\n",
    "len(distinct_words.collect())"
   ]
  },
  {
   "cell_type": "code",
   "execution_count": 82,
   "metadata": {
    "hideCode": false,
    "hidePrompt": false
   },
   "outputs": [
    {
     "data": {
      "text/plain": [
       "726"
      ]
     },
     "execution_count": 82,
     "metadata": {},
     "output_type": "execute_result"
    }
   ],
   "source": [
    "# This is the total number of words\n",
    "len(words.collect())"
   ]
  },
  {
   "cell_type": "code",
   "execution_count": 83,
   "metadata": {
    "hideCode": false,
    "hidePrompt": false
   },
   "outputs": [
    {
     "data": {
      "text/plain": [
       "[u'',\n",
       " u'1981,',\n",
       " u'all',\n",
       " u'just',\n",
       " u'Father',\n",
       " u'actions',\n",
       " u'discovered',\n",
       " u'schools',\n",
       " u'including',\n",
       " u'ecumenical']"
      ]
     },
     "execution_count": 83,
     "metadata": {},
     "output_type": "execute_result"
    }
   ],
   "source": [
    "# Print distinct words\n",
    "words.distinct().collect()[:10]"
   ]
  },
  {
   "cell_type": "markdown",
   "metadata": {
    "hideCode": false,
    "hidePrompt": false
   },
   "source": [
    "#### Example 3.2: Create a flatmap of distinct words from “README.md”"
   ]
  },
  {
   "cell_type": "code",
   "execution_count": 84,
   "metadata": {
    "hideCode": false,
    "hidePrompt": false
   },
   "outputs": [],
   "source": [
    "\n",
    "readme = sc.textFile(\"/Users/owner/USF/spark/2017-msan694-example-master/Data/README.md\")"
   ]
  },
  {
   "cell_type": "code",
   "execution_count": 85,
   "metadata": {
    "hideCode": false,
    "hidePrompt": false
   },
   "outputs": [],
   "source": [
    "readme_words = readme.flatMap(lambda line:line.split(' '))"
   ]
  },
  {
   "cell_type": "code",
   "execution_count": 86,
   "metadata": {
    "hideCode": false,
    "hidePrompt": false
   },
   "outputs": [],
   "source": [
    "readme_distinct_words = readme_words.distinct()"
   ]
  },
  {
   "cell_type": "code",
   "execution_count": 87,
   "metadata": {
    "hideCode": false,
    "hidePrompt": false
   },
   "outputs": [
    {
     "data": {
      "text/plain": [
       "275"
      ]
     },
     "execution_count": 87,
     "metadata": {},
     "output_type": "execute_result"
    }
   ],
   "source": [
    "readme_distinct_words.collect()[:10]\n",
    "len(readme_distinct_words.collect())"
   ]
  },
  {
   "cell_type": "code",
   "execution_count": 88,
   "metadata": {
    "hideCode": false,
    "hidePrompt": false
   },
   "outputs": [],
   "source": [
    "readme_words = readme.flatMap(lambda line: line.split(' '))"
   ]
  },
  {
   "cell_type": "code",
   "execution_count": 59,
   "metadata": {
    "hideCode": false,
    "hidePrompt": false,
    "scrolled": false
   },
   "outputs": [
    {
     "data": {
      "text/plain": [
       "64"
      ]
     },
     "execution_count": 59,
     "metadata": {},
     "output_type": "execute_result"
    }
   ],
   "source": [
    "readme_distinct = readme.distinct()\n",
    "len(readme_distinct.collect())"
   ]
  },
  {
   "cell_type": "markdown",
   "metadata": {},
   "source": [
    "#### Example 3.3: What is union, intersection, subtract and cartesian product of the sets from Example 3-1 and Example 3-2?"
   ]
  },
  {
   "cell_type": "code",
   "execution_count": 107,
   "metadata": {
    "hideCode": false,
    "hidePrompt": false
   },
   "outputs": [
    {
     "data": {
      "text/plain": [
       "656"
      ]
     },
     "execution_count": 107,
     "metadata": {},
     "output_type": "execute_result"
    }
   ],
   "source": [
    "len(distinct_words.union(readme_distinct_words).collect())"
   ]
  },
  {
   "cell_type": "code",
   "execution_count": 108,
   "metadata": {
    "hideCode": false,
    "hidePrompt": false
   },
   "outputs": [
    {
     "data": {
      "text/plain": [
       "1"
      ]
     },
     "execution_count": 108,
     "metadata": {},
     "output_type": "execute_result"
    }
   ],
   "source": [
    "len(distinct_words.intersection(readme_distinct).collect())"
   ]
  },
  {
   "cell_type": "code",
   "execution_count": 110,
   "metadata": {
    "hideCode": false,
    "hidePrompt": false
   },
   "outputs": [
    {
     "data": {
      "text/plain": [
       "1"
      ]
     },
     "execution_count": 110,
     "metadata": {},
     "output_type": "execute_result"
    }
   ],
   "source": [
    "len(distinct_words.intersection(readme_distinct).collect())"
   ]
  },
  {
   "cell_type": "code",
   "execution_count": 111,
   "metadata": {
    "hideCode": false,
    "hidePrompt": false
   },
   "outputs": [
    {
     "data": {
      "text/plain": [
       "380"
      ]
     },
     "execution_count": 111,
     "metadata": {},
     "output_type": "execute_result"
    }
   ],
   "source": [
    "len(distinct_words.subtract(readme_distinct).collect())"
   ]
  },
  {
   "cell_type": "code",
   "execution_count": 112,
   "metadata": {
    "hideCode": false,
    "hidePrompt": false
   },
   "outputs": [
    {
     "data": {
      "text/plain": [
       "24384"
      ]
     },
     "execution_count": 112,
     "metadata": {},
     "output_type": "execute_result"
    }
   ],
   "source": [
    "len(distinct_words.cartesian(readme_distinct).collect())"
   ]
  },
  {
   "cell_type": "markdown",
   "metadata": {},
   "source": [
    "### RDD Operations - Actions\n",
    "\n",
    "Compute a result based on RDD.\n",
    "Return the result to the driver program or save it externally.\n",
    "Return a **non-RDD object**.\n",
    "\n",
    "**Examples**:\n",
    "- reduce()\n",
    "- fold(zeroValue)\n",
    "- aggregate(zeroValue, seqOp, combOp)\n",
    "- collect()\n",
    "- count()\n",
    "- countByValue()\n",
    "- take()\n",
    "- takeSample()\n",
    "- foreach()"
   ]
  },
  {
   "cell_type": "markdown",
   "metadata": {},
   "source": [
    "#### Example 4.1\n",
    "For the numbers between 1 and 9, calculate sum of the odd numbers.\n"
   ]
  },
  {
   "cell_type": "code",
   "execution_count": 120,
   "metadata": {
    "hideCode": false,
    "hidePrompt": false
   },
   "outputs": [
    {
     "data": {
      "text/plain": [
       "[[1, 2, 3], [4, 5, 6], [7, 8, 9]]"
      ]
     },
     "execution_count": 120,
     "metadata": {},
     "output_type": "execute_result"
    }
   ],
   "source": [
    "numbers = sc.parallelize(range(1,10),3)\n",
    "numbers.glom().collect()"
   ]
  },
  {
   "cell_type": "code",
   "execution_count": 121,
   "metadata": {
    "hideCode": false,
    "hidePrompt": false
   },
   "outputs": [],
   "source": [
    "odd_numbers = numbers.filter(lambda x: x%2 ==1)"
   ]
  },
  {
   "cell_type": "code",
   "execution_count": 122,
   "metadata": {
    "hideCode": false,
    "hidePrompt": false
   },
   "outputs": [
    {
     "data": {
      "text/plain": [
       "[[1, 3], [5], [7, 9]]"
      ]
     },
     "execution_count": 122,
     "metadata": {},
     "output_type": "execute_result"
    }
   ],
   "source": [
    "odd_numbers.glom().collect()"
   ]
  },
  {
   "cell_type": "code",
   "execution_count": 123,
   "metadata": {
    "hideCode": false,
    "hidePrompt": false
   },
   "outputs": [
    {
     "data": {
      "text/plain": [
       "25"
      ]
     },
     "execution_count": 123,
     "metadata": {},
     "output_type": "execute_result"
    }
   ],
   "source": [
    "odd_numbers.reduce(lambda x,y: x+y)"
   ]
  },
  {
   "cell_type": "markdown",
   "metadata": {},
   "source": [
    "#### Example 4.2: For the numbers between 1 and 9, calculate sum of the odd numbers using fold"
   ]
  },
  {
   "cell_type": "markdown",
   "metadata": {},
   "source": [
    "__fold(zero, function)__ is similar to __reduce(function)__ but with provided zero value. It is often used to handle an error like the one from the above, e.g. use: _num.fold(0,lambda x,y: x+y)_ hThe function will return zero."
   ]
  },
  {
   "cell_type": "code",
   "execution_count": 124,
   "metadata": {
    "hideCode": false,
    "hidePrompt": false
   },
   "outputs": [
    {
     "data": {
      "text/plain": [
       "25"
      ]
     },
     "execution_count": 124,
     "metadata": {},
     "output_type": "execute_result"
    }
   ],
   "source": [
    "odd_numbers.fold(0, lambda x,y: x+y) # we provide  a zero value to a fold function"
   ]
  },
  {
   "cell_type": "markdown",
   "metadata": {},
   "source": [
    "#### Example 4.3: Using aggregate(), return (sum, # of elements) of odd numbers"
   ]
  },
  {
   "cell_type": "code",
   "execution_count": 119,
   "metadata": {
    "hideCode": false,
    "hidePrompt": false
   },
   "outputs": [
    {
     "data": {
      "text/plain": [
       "(5, 25)"
      ]
     },
     "execution_count": 119,
     "metadata": {},
     "output_type": "execute_result"
    }
   ],
   "source": [
    "odd_numbers.aggregate((0,0),(lambda x,y: (x[0]+1,x[1]+y)), (lambda x,y: (x[0]+y[0],x[1]+y[1])))"
   ]
  },
  {
   "cell_type": "markdown",
   "metadata": {},
   "source": [
    "What's going on here?\n",
    "\n",
    "**aggregate((zeroValue), seqOp, combOp)** works as follows:\n",
    "\n",
    "_zeroValue_ - an initital value of a type we want to return (here we want a tuple, so provide (0,0)\n",
    "\n",
    "_seqOp_ - function to combine the elements from RDD with the accumulator. Runs within a partition. In this example, let's consider partition 1: [1,3]. Here init value x = (0,0); we take first number y = 1 and get (0+1, 0+1) = (1,1).This becomes x = (1,1), y = 3 ==> (1+1,1+3) = (2,4). In 2nd partition x = (0,0), y = 5 ==> (1,5). 3rd partition: x = (0,0), y = 7 ==> (1,7); then x = (1,7), y = 9 => (1+1,7+9) = (2,16)\n",
    "\n",
    "_combOp_ - function to merge accumulations: here we have three pairs as inputs: (2,4); (1,5), (2,16). We now apply _combOp_ to get (2+1,4+5) = (3,9) and then (3+2,9 + 1) => (5,25)\n"
   ]
  },
  {
   "cell_type": "markdown",
   "metadata": {},
   "source": [
    "**sample()** vs **takeSample()**\n",
    "\n",
    "- sample(withReplacement, fraction, seed) - is a TRANSFORMATION!\n",
    "    - fraction:\n",
    "      - expected _number of times each element (positive double) is going to be sampled_, __when replacement is used__\n",
    "      - expected _probability that each element is going to be sampled_, __when replacement is NOT used__\n",
    "      \n",
    "- takeSample(withReplacement, num, seed)  is an ACTION\n",
    "    - num - the exact number of sampled element (integer)\n"
   ]
  },
  {
   "cell_type": "markdown",
   "metadata": {},
   "source": [
    "#### Example 5.1"
   ]
  },
  {
   "cell_type": "code",
   "execution_count": 126,
   "metadata": {
    "hideCode": false,
    "hidePrompt": false
   },
   "outputs": [],
   "source": [
    "x = sc.parallelize([3,4,1,2])\n",
    "y = sc.parallelize(range(2,6))\n",
    "z = x.union(y)"
   ]
  },
  {
   "cell_type": "markdown",
   "metadata": {},
   "source": [
    "Try collect(), count(), countByValue(), top(n), take(n), first(), takeSample() operations on z.\n"
   ]
  },
  {
   "cell_type": "code",
   "execution_count": 127,
   "metadata": {},
   "outputs": [
    {
     "data": {
      "text/plain": [
       "[3, 4, 1, 2, 2, 3, 4, 5]"
      ]
     },
     "execution_count": 127,
     "metadata": {},
     "output_type": "execute_result"
    }
   ],
   "source": [
    "z.collect()"
   ]
  },
  {
   "cell_type": "code",
   "execution_count": 128,
   "metadata": {
    "hideCode": false,
    "hidePrompt": false
   },
   "outputs": [
    {
     "data": {
      "text/plain": [
       "8"
      ]
     },
     "execution_count": 128,
     "metadata": {},
     "output_type": "execute_result"
    }
   ],
   "source": [
    "z.count()"
   ]
  },
  {
   "cell_type": "code",
   "execution_count": 129,
   "metadata": {
    "hideCode": false,
    "hidePrompt": false
   },
   "outputs": [
    {
     "data": {
      "text/plain": [
       "defaultdict(int, {1: 1, 2: 2, 3: 2, 4: 2, 5: 1})"
      ]
     },
     "execution_count": 129,
     "metadata": {},
     "output_type": "execute_result"
    }
   ],
   "source": [
    "z.countByValue()"
   ]
  },
  {
   "cell_type": "code",
   "execution_count": 130,
   "metadata": {
    "hideCode": false,
    "hidePrompt": false
   },
   "outputs": [
    {
     "data": {
      "text/plain": [
       "[5]"
      ]
     },
     "execution_count": 130,
     "metadata": {},
     "output_type": "execute_result"
    }
   ],
   "source": [
    "z.top(1)"
   ]
  },
  {
   "cell_type": "markdown",
   "metadata": {},
   "source": [
    "What's the fidderence between **take()** and **first()**?\n",
    "\n",
    "**take()** returns a list \n",
    "\n",
    "**first()** returns values"
   ]
  },
  {
   "cell_type": "code",
   "execution_count": 157,
   "metadata": {
    "hideCode": false,
    "hidePrompt": false
   },
   "outputs": [
    {
     "data": {
      "text/plain": [
       "[3]"
      ]
     },
     "execution_count": 157,
     "metadata": {},
     "output_type": "execute_result"
    }
   ],
   "source": [
    "z.take(1)"
   ]
  },
  {
   "cell_type": "code",
   "execution_count": 156,
   "metadata": {
    "hideCode": false,
    "hidePrompt": false
   },
   "outputs": [
    {
     "data": {
      "text/plain": [
       "3"
      ]
     },
     "execution_count": 156,
     "metadata": {},
     "output_type": "execute_result"
    }
   ],
   "source": [
    "z.first()"
   ]
  },
  {
   "cell_type": "code",
   "execution_count": 183,
   "metadata": {
    "hideCode": false,
    "hidePrompt": false
   },
   "outputs": [
    {
     "data": {
      "text/plain": [
       "[3, 1, 2, 4, 5, 2, 3, 4]"
      ]
     },
     "execution_count": 183,
     "metadata": {},
     "output_type": "execute_result"
    }
   ],
   "source": [
    "z.takeSample(False,20,1)"
   ]
  },
  {
   "cell_type": "code",
   "execution_count": 149,
   "metadata": {},
   "outputs": [
    {
     "data": {
      "text/plain": [
       "[3, 1, 2, 4, 5]"
      ]
     },
     "execution_count": 149,
     "metadata": {},
     "output_type": "execute_result"
    }
   ],
   "source": [
    "z.takeSample(False,5,1)"
   ]
  },
  {
   "cell_type": "code",
   "execution_count": 150,
   "metadata": {
    "hideCode": false,
    "hidePrompt": false
   },
   "outputs": [
    {
     "data": {
      "text/plain": [
       "[3, 2, 4, 5, 5, 1, 3, 4, 4, 1, 1, 2, 4, 2, 2, 3, 5, 4, 1, 2]"
      ]
     },
     "execution_count": 150,
     "metadata": {},
     "output_type": "execute_result"
    }
   ],
   "source": [
    "z.takeSample(True,20,1)"
   ]
  },
  {
   "cell_type": "code",
   "execution_count": 145,
   "metadata": {
    "hideCode": false,
    "hidePrompt": false
   },
   "outputs": [
    {
     "data": {
      "text/plain": [
       "[3, 4, 4]"
      ]
     },
     "execution_count": 145,
     "metadata": {},
     "output_type": "execute_result"
    }
   ],
   "source": [
    "z.sample(False, 0.25,100).collect()"
   ]
  },
  {
   "cell_type": "code",
   "execution_count": 154,
   "metadata": {},
   "outputs": [
    {
     "data": {
      "text/plain": [
       "[4, 4, 1, 1, 1, 1, 2, 2, 3, 5, 5]"
      ]
     },
     "execution_count": 154,
     "metadata": {},
     "output_type": "execute_result"
    }
   ],
   "source": [
    "z.sample(True,2.0,100).collect()"
   ]
  },
  {
   "cell_type": "code",
   "execution_count": null,
   "metadata": {},
   "outputs": [],
   "source": []
  }
 ],
 "metadata": {
  "hide_code_all_hidden": false,
  "kernelspec": {
   "display_name": "Python 2",
   "language": "python",
   "name": "python2"
  },
  "language_info": {
   "codemirror_mode": {
    "name": "ipython",
    "version": 2
   },
   "file_extension": ".py",
   "mimetype": "text/x-python",
   "name": "python",
   "nbconvert_exporter": "python",
   "pygments_lexer": "ipython2",
   "version": "2.7.13"
  }
 },
 "nbformat": 4,
 "nbformat_minor": 2
}
